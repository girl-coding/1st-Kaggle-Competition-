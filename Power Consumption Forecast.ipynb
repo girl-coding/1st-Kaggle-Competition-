{
 "cells": [
  {
   "cell_type": "markdown",
   "id": "78be33a3",
   "metadata": {},
   "source": [
    "# Powering Tetouan: Time Series Forecasting on Power Consumption in Quads, Smir and Boussafou zones."
   ]
  },
  {
   "cell_type": "code",
   "execution_count": 25,
   "id": "1240335a",
   "metadata": {},
   "outputs": [],
   "source": [
    "import pandas as pd\n",
    "import numpy as np\n"
   ]
  },
  {
   "cell_type": "code",
   "execution_count": 26,
   "id": "19885cf8",
   "metadata": {},
   "outputs": [],
   "source": [
    "df = pd.read_csv('sample_data.csv')"
   ]
  },
  {
   "cell_type": "code",
   "execution_count": 27,
   "id": "4476d522",
   "metadata": {},
   "outputs": [
    {
     "data": {
      "text/html": [
       "<div>\n",
       "<style scoped>\n",
       "    .dataframe tbody tr th:only-of-type {\n",
       "        vertical-align: middle;\n",
       "    }\n",
       "\n",
       "    .dataframe tbody tr th {\n",
       "        vertical-align: top;\n",
       "    }\n",
       "\n",
       "    .dataframe thead th {\n",
       "        text-align: right;\n",
       "    }\n",
       "</style>\n",
       "<table border=\"1\" class=\"dataframe\">\n",
       "  <thead>\n",
       "    <tr style=\"text-align: right;\">\n",
       "      <th></th>\n",
       "      <th>Datetime</th>\n",
       "      <th>predicted_Zone1</th>\n",
       "      <th>predicted_Zone2</th>\n",
       "      <th>predicted_Zone3</th>\n",
       "    </tr>\n",
       "  </thead>\n",
       "  <tbody>\n",
       "    <tr>\n",
       "      <th>0</th>\n",
       "      <td>2/12/2017 14:40</td>\n",
       "      <td>30000</td>\n",
       "      <td>10000</td>\n",
       "      <td>20000</td>\n",
       "    </tr>\n",
       "    <tr>\n",
       "      <th>1</th>\n",
       "      <td>11/22/2017 15:30</td>\n",
       "      <td>30000</td>\n",
       "      <td>10000</td>\n",
       "      <td>20000</td>\n",
       "    </tr>\n",
       "    <tr>\n",
       "      <th>2</th>\n",
       "      <td>10/15/2017 1:50</td>\n",
       "      <td>30000</td>\n",
       "      <td>10000</td>\n",
       "      <td>20000</td>\n",
       "    </tr>\n",
       "    <tr>\n",
       "      <th>3</th>\n",
       "      <td>9/11/2017 23:00</td>\n",
       "      <td>30000</td>\n",
       "      <td>10000</td>\n",
       "      <td>20000</td>\n",
       "    </tr>\n",
       "    <tr>\n",
       "      <th>4</th>\n",
       "      <td>12/26/2017 1:20</td>\n",
       "      <td>30000</td>\n",
       "      <td>10000</td>\n",
       "      <td>20000</td>\n",
       "    </tr>\n",
       "  </tbody>\n",
       "</table>\n",
       "</div>"
      ],
      "text/plain": [
       "           Datetime  predicted_Zone1  predicted_Zone2  predicted_Zone3\n",
       "0   2/12/2017 14:40            30000            10000            20000\n",
       "1  11/22/2017 15:30            30000            10000            20000\n",
       "2   10/15/2017 1:50            30000            10000            20000\n",
       "3   9/11/2017 23:00            30000            10000            20000\n",
       "4   12/26/2017 1:20            30000            10000            20000"
      ]
     },
     "execution_count": 27,
     "metadata": {},
     "output_type": "execute_result"
    }
   ],
   "source": [
    "df.head()"
   ]
  },
  {
   "cell_type": "code",
   "execution_count": 45,
   "id": "193662cb",
   "metadata": {},
   "outputs": [
    {
     "data": {
      "text/plain": [
       "(10483, 4)"
      ]
     },
     "execution_count": 45,
     "metadata": {},
     "output_type": "execute_result"
    }
   ],
   "source": [
    "df.shape"
   ]
  },
  {
   "cell_type": "code",
   "execution_count": 28,
   "id": "f33639a5",
   "metadata": {},
   "outputs": [],
   "source": [
    "\n",
    "\n",
    "from datetime import datetime\n",
    "\n",
    "df['Datetime'] = df['Datetime'].apply(lambda x: datetime.strptime(x, \"%m/%d/%Y %H:%M\"))\n",
    "\n"
   ]
  },
  {
   "cell_type": "code",
   "execution_count": 29,
   "id": "848b1435",
   "metadata": {},
   "outputs": [
    {
     "data": {
      "text/plain": [
       "0        14\n",
       "1        15\n",
       "2         1\n",
       "3        23\n",
       "4         1\n",
       "         ..\n",
       "10478    13\n",
       "10479    14\n",
       "10480     7\n",
       "10481    11\n",
       "10482    23\n",
       "Name: Datetime, Length: 10483, dtype: int64"
      ]
     },
     "execution_count": 29,
     "metadata": {},
     "output_type": "execute_result"
    }
   ],
   "source": [
    "df['Datetime'].dt.hour"
   ]
  },
  {
   "cell_type": "code",
   "execution_count": null,
   "id": "e99ebdc8",
   "metadata": {},
   "outputs": [],
   "source": []
  },
  {
   "cell_type": "code",
   "execution_count": null,
   "id": "63ef723c",
   "metadata": {},
   "outputs": [],
   "source": []
  },
  {
   "cell_type": "code",
   "execution_count": null,
   "id": "e83f5917",
   "metadata": {},
   "outputs": [],
   "source": []
  },
  {
   "cell_type": "code",
   "execution_count": 30,
   "id": "734285e3",
   "metadata": {},
   "outputs": [
    {
     "data": {
      "text/plain": [
       "Datetime           0\n",
       "predicted_Zone1    0\n",
       "predicted_Zone2    0\n",
       "predicted_Zone3    0\n",
       "dtype: int64"
      ]
     },
     "execution_count": 30,
     "metadata": {},
     "output_type": "execute_result"
    }
   ],
   "source": [
    "df.isnull().sum()"
   ]
  },
  {
   "cell_type": "code",
   "execution_count": 31,
   "id": "e1a1977d",
   "metadata": {},
   "outputs": [],
   "source": [
    "train = pd.read_csv('train_data.csv')"
   ]
  },
  {
   "cell_type": "code",
   "execution_count": 32,
   "id": "fd4d822b",
   "metadata": {},
   "outputs": [
    {
     "data": {
      "text/html": [
       "<div>\n",
       "<style scoped>\n",
       "    .dataframe tbody tr th:only-of-type {\n",
       "        vertical-align: middle;\n",
       "    }\n",
       "\n",
       "    .dataframe tbody tr th {\n",
       "        vertical-align: top;\n",
       "    }\n",
       "\n",
       "    .dataframe thead th {\n",
       "        text-align: right;\n",
       "    }\n",
       "</style>\n",
       "<table border=\"1\" class=\"dataframe\">\n",
       "  <thead>\n",
       "    <tr style=\"text-align: right;\">\n",
       "      <th></th>\n",
       "      <th>Datetime</th>\n",
       "      <th>Temperature</th>\n",
       "      <th>Humidity</th>\n",
       "      <th>WindSpeed</th>\n",
       "      <th>GeneralDiffuseFlows</th>\n",
       "      <th>DiffuseFlows</th>\n",
       "      <th>PowerConsumption_Zone1</th>\n",
       "      <th>PowerConsumption_Zone2</th>\n",
       "      <th>PowerConsumption_Zone3</th>\n",
       "    </tr>\n",
       "  </thead>\n",
       "  <tbody>\n",
       "    <tr>\n",
       "      <th>0</th>\n",
       "      <td>5/5/2017 22:30</td>\n",
       "      <td>17.84</td>\n",
       "      <td>55.42</td>\n",
       "      <td>4.920</td>\n",
       "      <td>0.099</td>\n",
       "      <td>0.089</td>\n",
       "      <td>39168.00000</td>\n",
       "      <td>24375.23220</td>\n",
       "      <td>23675.46559</td>\n",
       "    </tr>\n",
       "    <tr>\n",
       "      <th>1</th>\n",
       "      <td>5/5/2017 21:30</td>\n",
       "      <td>18.71</td>\n",
       "      <td>49.68</td>\n",
       "      <td>4.919</td>\n",
       "      <td>0.048</td>\n",
       "      <td>0.130</td>\n",
       "      <td>43272.39344</td>\n",
       "      <td>25723.83901</td>\n",
       "      <td>24730.68826</td>\n",
       "    </tr>\n",
       "    <tr>\n",
       "      <th>2</th>\n",
       "      <td>4/11/2017 16:40</td>\n",
       "      <td>15.76</td>\n",
       "      <td>85.70</td>\n",
       "      <td>0.068</td>\n",
       "      <td>200.700</td>\n",
       "      <td>182.800</td>\n",
       "      <td>32489.12809</td>\n",
       "      <td>18084.31772</td>\n",
       "      <td>17716.36364</td>\n",
       "    </tr>\n",
       "    <tr>\n",
       "      <th>3</th>\n",
       "      <td>9/30/2017 21:40</td>\n",
       "      <td>19.19</td>\n",
       "      <td>83.60</td>\n",
       "      <td>4.919</td>\n",
       "      <td>0.073</td>\n",
       "      <td>0.122</td>\n",
       "      <td>40218.05310</td>\n",
       "      <td>23864.03326</td>\n",
       "      <td>19198.03882</td>\n",
       "    </tr>\n",
       "    <tr>\n",
       "      <th>4</th>\n",
       "      <td>1/5/2017 10:40</td>\n",
       "      <td>8.82</td>\n",
       "      <td>65.24</td>\n",
       "      <td>0.084</td>\n",
       "      <td>322.500</td>\n",
       "      <td>40.380</td>\n",
       "      <td>31552.40506</td>\n",
       "      <td>20739.20973</td>\n",
       "      <td>15226.98795</td>\n",
       "    </tr>\n",
       "  </tbody>\n",
       "</table>\n",
       "</div>"
      ],
      "text/plain": [
       "          Datetime  Temperature  Humidity  WindSpeed  GeneralDiffuseFlows  \\\n",
       "0   5/5/2017 22:30        17.84     55.42      4.920                0.099   \n",
       "1   5/5/2017 21:30        18.71     49.68      4.919                0.048   \n",
       "2  4/11/2017 16:40        15.76     85.70      0.068              200.700   \n",
       "3  9/30/2017 21:40        19.19     83.60      4.919                0.073   \n",
       "4   1/5/2017 10:40         8.82     65.24      0.084              322.500   \n",
       "\n",
       "   DiffuseFlows  PowerConsumption_Zone1  PowerConsumption_Zone2  \\\n",
       "0         0.089             39168.00000             24375.23220   \n",
       "1         0.130             43272.39344             25723.83901   \n",
       "2       182.800             32489.12809             18084.31772   \n",
       "3         0.122             40218.05310             23864.03326   \n",
       "4        40.380             31552.40506             20739.20973   \n",
       "\n",
       "   PowerConsumption_Zone3  \n",
       "0             23675.46559  \n",
       "1             24730.68826  \n",
       "2             17716.36364  \n",
       "3             19198.03882  \n",
       "4             15226.98795  "
      ]
     },
     "execution_count": 32,
     "metadata": {},
     "output_type": "execute_result"
    }
   ],
   "source": [
    "train.head()"
   ]
  },
  {
   "cell_type": "code",
   "execution_count": 33,
   "id": "edb94e6d",
   "metadata": {},
   "outputs": [],
   "source": [
    "from datetime import datetime\n",
    "\n",
    "train['Datetime'] = train['Datetime'].apply(lambda x: datetime.strptime(x, \"%m/%d/%Y %H:%M\"))\n",
    "\n"
   ]
  },
  {
   "cell_type": "code",
   "execution_count": 42,
   "id": "ff592895",
   "metadata": {},
   "outputs": [
    {
     "data": {
      "text/html": [
       "<div>\n",
       "<style scoped>\n",
       "    .dataframe tbody tr th:only-of-type {\n",
       "        vertical-align: middle;\n",
       "    }\n",
       "\n",
       "    .dataframe tbody tr th {\n",
       "        vertical-align: top;\n",
       "    }\n",
       "\n",
       "    .dataframe thead th {\n",
       "        text-align: right;\n",
       "    }\n",
       "</style>\n",
       "<table border=\"1\" class=\"dataframe\">\n",
       "  <thead>\n",
       "    <tr style=\"text-align: right;\">\n",
       "      <th></th>\n",
       "      <th>Datetime</th>\n",
       "      <th>Temperature</th>\n",
       "      <th>Humidity</th>\n",
       "      <th>WindSpeed</th>\n",
       "      <th>GeneralDiffuseFlows</th>\n",
       "      <th>DiffuseFlows</th>\n",
       "      <th>PowerConsumption_Zone1</th>\n",
       "      <th>PowerConsumption_Zone2</th>\n",
       "      <th>PowerConsumption_Zone3</th>\n",
       "    </tr>\n",
       "  </thead>\n",
       "  <tbody>\n",
       "    <tr>\n",
       "      <th>0</th>\n",
       "      <td>2017-05-05 22:30:00</td>\n",
       "      <td>17.840</td>\n",
       "      <td>55.42</td>\n",
       "      <td>4.920</td>\n",
       "      <td>0.099</td>\n",
       "      <td>0.089</td>\n",
       "      <td>39168.00000</td>\n",
       "      <td>24375.23220</td>\n",
       "      <td>23675.465590</td>\n",
       "    </tr>\n",
       "    <tr>\n",
       "      <th>1</th>\n",
       "      <td>2017-05-05 21:30:00</td>\n",
       "      <td>18.710</td>\n",
       "      <td>49.68</td>\n",
       "      <td>4.919</td>\n",
       "      <td>0.048</td>\n",
       "      <td>0.130</td>\n",
       "      <td>43272.39344</td>\n",
       "      <td>25723.83901</td>\n",
       "      <td>24730.688260</td>\n",
       "    </tr>\n",
       "    <tr>\n",
       "      <th>2</th>\n",
       "      <td>2017-04-11 16:40:00</td>\n",
       "      <td>15.760</td>\n",
       "      <td>85.70</td>\n",
       "      <td>0.068</td>\n",
       "      <td>200.700</td>\n",
       "      <td>182.800</td>\n",
       "      <td>32489.12809</td>\n",
       "      <td>18084.31772</td>\n",
       "      <td>17716.363640</td>\n",
       "    </tr>\n",
       "    <tr>\n",
       "      <th>3</th>\n",
       "      <td>2017-09-30 21:40:00</td>\n",
       "      <td>19.190</td>\n",
       "      <td>83.60</td>\n",
       "      <td>4.919</td>\n",
       "      <td>0.073</td>\n",
       "      <td>0.122</td>\n",
       "      <td>40218.05310</td>\n",
       "      <td>23864.03326</td>\n",
       "      <td>19198.038820</td>\n",
       "    </tr>\n",
       "    <tr>\n",
       "      <th>4</th>\n",
       "      <td>2017-01-05 10:40:00</td>\n",
       "      <td>8.820</td>\n",
       "      <td>65.24</td>\n",
       "      <td>0.084</td>\n",
       "      <td>322.500</td>\n",
       "      <td>40.380</td>\n",
       "      <td>31552.40506</td>\n",
       "      <td>20739.20973</td>\n",
       "      <td>15226.987950</td>\n",
       "    </tr>\n",
       "    <tr>\n",
       "      <th>5</th>\n",
       "      <td>2017-02-25 16:40:00</td>\n",
       "      <td>16.840</td>\n",
       "      <td>37.18</td>\n",
       "      <td>0.082</td>\n",
       "      <td>375.700</td>\n",
       "      <td>397.800</td>\n",
       "      <td>31606.77966</td>\n",
       "      <td>18167.78116</td>\n",
       "      <td>16093.266330</td>\n",
       "    </tr>\n",
       "    <tr>\n",
       "      <th>6</th>\n",
       "      <td>2017-01-24 21:00:00</td>\n",
       "      <td>7.870</td>\n",
       "      <td>59.73</td>\n",
       "      <td>0.088</td>\n",
       "      <td>0.044</td>\n",
       "      <td>0.134</td>\n",
       "      <td>44153.92405</td>\n",
       "      <td>27195.13678</td>\n",
       "      <td>25405.301200</td>\n",
       "    </tr>\n",
       "    <tr>\n",
       "      <th>7</th>\n",
       "      <td>2017-12-23 13:20:00</td>\n",
       "      <td>16.770</td>\n",
       "      <td>67.52</td>\n",
       "      <td>0.077</td>\n",
       "      <td>236.100</td>\n",
       "      <td>164.200</td>\n",
       "      <td>31349.04943</td>\n",
       "      <td>24994.16999</td>\n",
       "      <td>10089.795920</td>\n",
       "    </tr>\n",
       "    <tr>\n",
       "      <th>8</th>\n",
       "      <td>2017-11-29 05:30:00</td>\n",
       "      <td>16.890</td>\n",
       "      <td>68.62</td>\n",
       "      <td>4.914</td>\n",
       "      <td>0.029</td>\n",
       "      <td>0.133</td>\n",
       "      <td>22756.92308</td>\n",
       "      <td>17910.74380</td>\n",
       "      <td>9929.638554</td>\n",
       "    </tr>\n",
       "    <tr>\n",
       "      <th>9</th>\n",
       "      <td>2017-12-10 07:30:00</td>\n",
       "      <td>5.768</td>\n",
       "      <td>87.70</td>\n",
       "      <td>0.086</td>\n",
       "      <td>0.073</td>\n",
       "      <td>0.152</td>\n",
       "      <td>18323.95437</td>\n",
       "      <td>13130.40810</td>\n",
       "      <td>6263.625450</td>\n",
       "    </tr>\n",
       "  </tbody>\n",
       "</table>\n",
       "</div>"
      ],
      "text/plain": [
       "             Datetime  Temperature  Humidity  WindSpeed  GeneralDiffuseFlows  \\\n",
       "0 2017-05-05 22:30:00       17.840     55.42      4.920                0.099   \n",
       "1 2017-05-05 21:30:00       18.710     49.68      4.919                0.048   \n",
       "2 2017-04-11 16:40:00       15.760     85.70      0.068              200.700   \n",
       "3 2017-09-30 21:40:00       19.190     83.60      4.919                0.073   \n",
       "4 2017-01-05 10:40:00        8.820     65.24      0.084              322.500   \n",
       "5 2017-02-25 16:40:00       16.840     37.18      0.082              375.700   \n",
       "6 2017-01-24 21:00:00        7.870     59.73      0.088                0.044   \n",
       "7 2017-12-23 13:20:00       16.770     67.52      0.077              236.100   \n",
       "8 2017-11-29 05:30:00       16.890     68.62      4.914                0.029   \n",
       "9 2017-12-10 07:30:00        5.768     87.70      0.086                0.073   \n",
       "\n",
       "   DiffuseFlows  PowerConsumption_Zone1  PowerConsumption_Zone2  \\\n",
       "0         0.089             39168.00000             24375.23220   \n",
       "1         0.130             43272.39344             25723.83901   \n",
       "2       182.800             32489.12809             18084.31772   \n",
       "3         0.122             40218.05310             23864.03326   \n",
       "4        40.380             31552.40506             20739.20973   \n",
       "5       397.800             31606.77966             18167.78116   \n",
       "6         0.134             44153.92405             27195.13678   \n",
       "7       164.200             31349.04943             24994.16999   \n",
       "8         0.133             22756.92308             17910.74380   \n",
       "9         0.152             18323.95437             13130.40810   \n",
       "\n",
       "   PowerConsumption_Zone3  \n",
       "0            23675.465590  \n",
       "1            24730.688260  \n",
       "2            17716.363640  \n",
       "3            19198.038820  \n",
       "4            15226.987950  \n",
       "5            16093.266330  \n",
       "6            25405.301200  \n",
       "7            10089.795920  \n",
       "8             9929.638554  \n",
       "9             6263.625450  "
      ]
     },
     "execution_count": 42,
     "metadata": {},
     "output_type": "execute_result"
    }
   ],
   "source": [
    "train.head(10)"
   ]
  },
  {
   "cell_type": "code",
   "execution_count": 41,
   "id": "d67a5c1c",
   "metadata": {},
   "outputs": [
    {
     "data": {
      "text/plain": [
       "0        30\n",
       "1        30\n",
       "2        40\n",
       "3        40\n",
       "4        40\n",
       "         ..\n",
       "41927    40\n",
       "41928    50\n",
       "41929    30\n",
       "41930    40\n",
       "41931    30\n",
       "Name: Datetime, Length: 41932, dtype: int64"
      ]
     },
     "execution_count": 41,
     "metadata": {},
     "output_type": "execute_result"
    }
   ],
   "source": [
    "train['Datetime'].dt.minute"
   ]
  },
  {
   "cell_type": "code",
   "execution_count": 34,
   "id": "9df390ea",
   "metadata": {},
   "outputs": [
    {
     "data": {
      "text/plain": [
       "Datetime                  0\n",
       "Temperature               0\n",
       "Humidity                  0\n",
       "WindSpeed                 0\n",
       "GeneralDiffuseFlows       0\n",
       "DiffuseFlows              0\n",
       "PowerConsumption_Zone1    0\n",
       "PowerConsumption_Zone2    0\n",
       "PowerConsumption_Zone3    0\n",
       "dtype: int64"
      ]
     },
     "execution_count": 34,
     "metadata": {},
     "output_type": "execute_result"
    }
   ],
   "source": [
    "train.isnull().sum()"
   ]
  },
  {
   "cell_type": "code",
   "execution_count": 35,
   "id": "6afe9468",
   "metadata": {},
   "outputs": [],
   "source": [
    "test = pd.read_csv('test_data.csv')"
   ]
  },
  {
   "cell_type": "code",
   "execution_count": 44,
   "id": "2e58e5d3",
   "metadata": {},
   "outputs": [
    {
     "data": {
      "text/plain": [
       "(41932, 9)"
      ]
     },
     "execution_count": 44,
     "metadata": {},
     "output_type": "execute_result"
    }
   ],
   "source": [
    "train.shape"
   ]
  },
  {
   "cell_type": "code",
   "execution_count": 43,
   "id": "eb732a38",
   "metadata": {},
   "outputs": [
    {
     "data": {
      "text/plain": [
       "(10483, 6)"
      ]
     },
     "execution_count": 43,
     "metadata": {},
     "output_type": "execute_result"
    }
   ],
   "source": [
    "test.shape"
   ]
  },
  {
   "cell_type": "code",
   "execution_count": 37,
   "id": "f97b3963",
   "metadata": {},
   "outputs": [
    {
     "data": {
      "text/plain": [
       "Datetime               0\n",
       "Temperature            0\n",
       "Humidity               0\n",
       "WindSpeed              0\n",
       "GeneralDiffuseFlows    0\n",
       "DiffuseFlows           0\n",
       "dtype: int64"
      ]
     },
     "execution_count": 37,
     "metadata": {},
     "output_type": "execute_result"
    }
   ],
   "source": [
    "test.isnull().sum()"
   ]
  },
  {
   "cell_type": "code",
   "execution_count": 46,
   "id": "e3bff78a",
   "metadata": {},
   "outputs": [
    {
     "data": {
      "text/plain": [
       "Datetime                  datetime64[ns]\n",
       "Temperature                      float64\n",
       "Humidity                         float64\n",
       "WindSpeed                        float64\n",
       "GeneralDiffuseFlows              float64\n",
       "DiffuseFlows                     float64\n",
       "PowerConsumption_Zone1           float64\n",
       "PowerConsumption_Zone2           float64\n",
       "PowerConsumption_Zone3           float64\n",
       "dtype: object"
      ]
     },
     "execution_count": 46,
     "metadata": {},
     "output_type": "execute_result"
    }
   ],
   "source": [
    "train.dtypes"
   ]
  },
  {
   "cell_type": "code",
   "execution_count": null,
   "id": "7bd843df",
   "metadata": {},
   "outputs": [],
   "source": []
  }
 ],
 "metadata": {
  "kernelspec": {
   "display_name": "Python 3 (ipykernel)",
   "language": "python",
   "name": "python3"
  },
  "language_info": {
   "codemirror_mode": {
    "name": "ipython",
    "version": 3
   },
   "file_extension": ".py",
   "mimetype": "text/x-python",
   "name": "python",
   "nbconvert_exporter": "python",
   "pygments_lexer": "ipython3",
   "version": "3.9.13"
  }
 },
 "nbformat": 4,
 "nbformat_minor": 5
}
